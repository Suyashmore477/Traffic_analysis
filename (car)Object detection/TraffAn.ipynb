{
 "cells": [
  {
   "cell_type": "code",
   "execution_count": 3,
   "id": "5ce55dde",
   "metadata": {},
   "outputs": [
    {
     "ename": "error",
     "evalue": "OpenCV(4.6.0) :-1: error: (-5:Bad argument) in function 'cvtColor'\n> Overload resolution failed:\n>  - src is not a numerical tuple\n>  - Expected Ptr<cv::UMat> for argument 'src'\n",
     "output_type": "error",
     "traceback": [
      "\u001b[1;31m---------------------------------------------------------------------------\u001b[0m",
      "\u001b[1;31merror\u001b[0m                                     Traceback (most recent call last)",
      "Cell \u001b[1;32mIn[3], line 10\u001b[0m\n\u001b[0;32m      8\u001b[0m \u001b[39mwhile\u001b[39;00m \u001b[39m1\u001b[39m:\n\u001b[0;32m      9\u001b[0m     img \u001b[39m=\u001b[39m cap\u001b[39m.\u001b[39mread()\n\u001b[1;32m---> 10\u001b[0m     gray \u001b[39m=\u001b[39m cv2\u001b[39m.\u001b[39;49mcvtColor(img, cv2\u001b[39m.\u001b[39;49mCOLOR_BGR2GRAY)\n\u001b[0;32m     11\u001b[0m     faces \u001b[39m=\u001b[39m face_cascade\u001b[39m.\u001b[39mdetectMultiScale(gray, \u001b[39m1.3\u001b[39m, \u001b[39m5\u001b[39m)\n\u001b[0;32m     13\u001b[0m     Alarmdetect\u001b[39m=\u001b[39m\u001b[39m0\u001b[39m\n",
      "\u001b[1;31merror\u001b[0m: OpenCV(4.6.0) :-1: error: (-5:Bad argument) in function 'cvtColor'\n> Overload resolution failed:\n>  - src is not a numerical tuple\n>  - Expected Ptr<cv::UMat> for argument 'src'\n"
     ]
    }
   ],
   "source": [
    "import numpy as np\n",
    "import cv2\n",
    "import winsound\n",
    "face_cascade = cv2.CascadeClassifier('\"D:\\\\Project\\\\(car)Object detection\\\\car2.xml\"')\n",
    "#cap = cv2.VideoCapture(0)\n",
    "cap = cv2.VideoCapture(\"4K Road traffic video for object detection and tracking.mp4\")\n",
    "    \n",
    "while 1:\n",
    "    img = cap.read()\n",
    "    gray = cv2.cvtColor(img, cv2.COLOR_BGR2GRAY)\n",
    "    faces = face_cascade.detectMultiScale(gray, 1.3, 5)\n",
    "\n",
    "    Alarmdetect=0\n",
    "    font=cv2.FONT_HERSHEY_SIMPLEX\n",
    "    pos=(30,30)\n",
    "    fontScale=1\n",
    "    fontColor=(0,255,0)\n",
    "    lineType=2\n",
    "\n",
    "    cv2.putText(img,\"Vehicle Count -\"+str(len(faces)),pos,font,fontScale,fontColor,lineType)\n",
    "\n",
    "\n",
    "    for (x,y,w,h) in faces:\n",
    "        cv2.rectangle(img,(x,y),(x+w,y+h),(255,0,0),2)\n",
    "        \n",
    "    if len(faces)>=7:\n",
    "        Alarmdetect=1\n",
    "        pos1=(80,80)\n",
    "        fontColor1=(0,0,255)\n",
    "        cv2.putText(img,str(\"High Road Traffic\"),pos1,font,fontScale+0.3,fontColor1,lineType)\n",
    "\n",
    "\n",
    "    if Alarmdetect==1:\n",
    "        frequency = 1500  # Set Frequency To 2500 Hertz\n",
    "        duration = 500  # Set Duration To 1000 ms == 1 second\n",
    "        winsound.Beep(frequency, duration)\n",
    "        \n",
    "            \n",
    "    if cv2.waitKey(100) & 0xFF == ord('q'):\n",
    "                break\n",
    "    cv2.imshow('img',img)\n",
    "\n",
    "cap.release()\n",
    "cv2.destroyAllWindows()\n"
   ]
  },
  {
   "cell_type": "code",
   "execution_count": null,
   "id": "6284a6de",
   "metadata": {},
   "outputs": [],
   "source": []
  }
 ],
 "metadata": {
  "kernelspec": {
   "display_name": "Python 3 (ipykernel)",
   "language": "python",
   "name": "python3"
  },
  "language_info": {
   "codemirror_mode": {
    "name": "ipython",
    "version": 3
   },
   "file_extension": ".py",
   "mimetype": "text/x-python",
   "name": "python",
   "nbconvert_exporter": "python",
   "pygments_lexer": "ipython3",
   "version": "3.10.6"
  }
 },
 "nbformat": 4,
 "nbformat_minor": 5
}
